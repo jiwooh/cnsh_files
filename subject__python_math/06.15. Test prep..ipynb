{
 "cells": [
  {
   "cell_type": "code",
   "execution_count": 1,
   "metadata": {},
   "outputs": [],
   "source": [
    "from itertools import product as nΠr\n",
    "from itertools import permutations as nPr\n",
    "from itertools import combinations as nCr\n",
    "from itertools import combinations_with_replacement as nHr\n",
    "from fractions import Fraction"
   ]
  },
  {
   "cell_type": "code",
   "execution_count": 11,
   "metadata": {},
   "outputs": [
    {
     "name": "stdout",
     "output_type": "stream",
     "text": [
      "17/29\n"
     ]
    },
    {
     "data": {
      "text/plain": [
       "46"
      ]
     },
     "execution_count": 11,
     "metadata": {},
     "output_type": "execute_result"
    }
   ],
   "source": [
    "A=['1w','2w','3w','4w', '3b','4b','5b','6b']\n",
    "B=list(nCr(A,4))\n",
    "S=[]\n",
    "T=[]\n",
    "for i in B:\n",
    "    j=''.join(i)\n",
    "    if j.count('3')==2 or j.count('4')==2:\n",
    "        S.append(i)\n",
    "        if j.count('b')==2:\n",
    "            T.append(i)\n",
    "print(Fraction(len(T),len(S)))\n",
    "17+29"
   ]
  },
  {
   "cell_type": "code",
   "execution_count": 18,
   "metadata": {},
   "outputs": [
    {
     "name": "stdout",
     "output_type": "stream",
     "text": [
      "2/91\n"
     ]
    }
   ],
   "source": [
    "A=[1,2,3,4]\n",
    "B=[]\n",
    "for i in range(1,5):\n",
    "    B.extend(list(nCr(A,i)))\n",
    "C=list(nPr(B,3))\n",
    "D=[]\n",
    "for i in C:\n",
    "    if all(x in i[1] for x in i[0]) and all(x in i[2] for x in i[1]):\n",
    "        D.append(i)\n",
    "print(Fraction(len(D),len(C)))"
   ]
  }
 ],
 "metadata": {
  "kernelspec": {
   "display_name": "Python 3",
   "language": "python",
   "name": "python3"
  },
  "language_info": {
   "codemirror_mode": {
    "name": "ipython",
    "version": 3
   },
   "file_extension": ".py",
   "mimetype": "text/x-python",
   "name": "python",
   "nbconvert_exporter": "python",
   "pygments_lexer": "ipython3",
   "version": "3.8.8"
  }
 },
 "nbformat": 4,
 "nbformat_minor": 4
}
