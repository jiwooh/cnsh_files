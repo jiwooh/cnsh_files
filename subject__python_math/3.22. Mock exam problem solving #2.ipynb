{
 "cells": [
  {
   "cell_type": "code",
   "execution_count": 15,
   "metadata": {},
   "outputs": [],
   "source": [
    "from itertools import product as nΠr\n",
    "from fractions import Fraction"
   ]
  },
  {
   "cell_type": "markdown",
   "metadata": {},
   "source": [
    "# 0. if any() & if all()\n",
    "- if A or B or ... = if any(A, B, ...)\n",
    "- if A and B and ... = if all(A, B, ...)"
   ]
  },
  {
   "cell_type": "markdown",
   "metadata": {},
   "source": [
    "# 1.\n",
    "![prob13](prob13.png)"
   ]
  },
  {
   "cell_type": "code",
   "execution_count": 21,
   "metadata": {},
   "outputs": [
    {
     "name": "stdout",
     "output_type": "stream",
     "text": [
      "13/36\n"
     ]
    }
   ],
   "source": [
    "T=list(nΠr(range(1,7),repeat=2))\n",
    "# P=[i for i in T if abs(i[0]-3)+abs(i[1]-2)==2 or i[0]==i[1] ]\n",
    "P=[i for i in T if any((abs(i[0]-3)+abs(i[1]-2)==2, i[0]==i[1])) ]\n",
    "print(Fraction(len(P),len(T))) # P/T"
   ]
  }
 ],
 "metadata": {
  "kernelspec": {
   "display_name": "Python 3",
   "language": "python",
   "name": "python3"
  },
  "language_info": {
   "codemirror_mode": {
    "name": "ipython",
    "version": 3
   },
   "file_extension": ".py",
   "mimetype": "text/x-python",
   "name": "python",
   "nbconvert_exporter": "python",
   "pygments_lexer": "ipython3",
   "version": "3.8.8"
  }
 },
 "nbformat": 4,
 "nbformat_minor": 4
}
