{
 "cells": [
  {
   "cell_type": "code",
   "execution_count": 1,
   "metadata": {},
   "outputs": [],
   "source": [
    "from itertools import permutations as nPr"
   ]
  },
  {
   "cell_type": "markdown",
   "metadata": {},
   "source": [
    "# 1. 같은 것이 있는 순열에의 set 사용"
   ]
  },
  {
   "cell_type": "code",
   "execution_count": 8,
   "metadata": {},
   "outputs": [
    {
     "name": "stdout",
     "output_type": "stream",
     "text": [
      "{('b', 'a', 'c', 'a', 'b', 'a'), ('b', 'b', 'a', 'a', 'a', 'c'), ('a', 'b', 'a', 'c', 'a', 'b'), ('b', 'c', 'a', 'b', 'a', 'a'), ('b', 'a', 'a', 'b', 'c', 'a'), ('c', 'b', 'a', 'a', 'a', 'b'), ('a', 'c', 'b', 'a', 'a', 'b'), ('b', 'c', 'b', 'a', 'a', 'a'), ('a', 'b', 'c', 'a', 'b', 'a'), ('c', 'a', 'a', 'b', 'a', 'b'), ('a', 'a', 'b', 'c', 'a', 'b'), ('c', 'b', 'a', 'b', 'a', 'a'), ('a', 'c', 'b', 'b', 'a', 'a'), ('a', 'a', 'c', 'a', 'b', 'b'), ('a', 'a', 'b', 'a', 'c', 'b'), ('c', 'a', 'a', 'a', 'b', 'b'), ('b', 'b', 'a', 'c', 'a', 'a'), ('a', 'b', 'a', 'b', 'a', 'c'), ('a', 'c', 'a', 'b', 'b', 'a'), ('a', 'b', 'b', 'a', 'a', 'c'), ('b', 'a', 'c', 'a', 'a', 'b'), ('b', 'b', 'a', 'a', 'c', 'a'), ('a', 'a', 'b', 'b', 'a', 'c'), ('a', 'a', 'a', 'b', 'c', 'b'), ('b', 'a', 'a', 'c', 'a', 'b'), ('a', 'a', 'a', 'c', 'b', 'b'), ('b', 'a', 'a', 'a', 'c', 'b'), ('b', 'c', 'a', 'a', 'a', 'b'), ('a', 'a', 'a', 'b', 'b', 'c'), ('a', 'a', 'c', 'b', 'a', 'b'), ('b', 'a', 'b', 'a', 'a', 'c'), ('a', 'a', 'b', 'a', 'b', 'c'), ('c', 'a', 'b', 'a', 'a', 'b'), ('c', 'b', 'b', 'a', 'a', 'a'), ('a', 'b', 'b', 'c', 'a', 'a'), ('b', 'a', 'a', 'a', 'b', 'c'), ('c', 'b', 'a', 'a', 'b', 'a'), ('a', 'b', 'c', 'a', 'a', 'b'), ('b', 'a', 'a', 'b', 'a', 'c'), ('c', 'a', 'b', 'b', 'a', 'a'), ('c', 'a', 'a', 'b', 'b', 'a'), ('a', 'a', 'b', 'c', 'b', 'a'), ('a', 'c', 'b', 'a', 'b', 'a'), ('a', 'b', 'a', 'a', 'c', 'b'), ('a', 'b', 'a', 'c', 'b', 'a'), ('a', 'b', 'b', 'a', 'c', 'a'), ('a', 'b', 'a', 'b', 'c', 'a'), ('a', 'c', 'a', 'a', 'b', 'b'), ('b', 'b', 'c', 'a', 'a', 'a'), ('a', 'b', 'c', 'b', 'a', 'a'), ('a', 'a', 'b', 'b', 'c', 'a'), ('b', 'a', 'a', 'c', 'b', 'a'), ('b', 'a', 'b', 'c', 'a', 'a'), ('b', 'a', 'b', 'a', 'c', 'a'), ('b', 'c', 'a', 'a', 'b', 'a'), ('a', 'c', 'a', 'b', 'a', 'b'), ('b', 'a', 'c', 'b', 'a', 'a'), ('a', 'a', 'c', 'b', 'b', 'a'), ('a', 'b', 'a', 'a', 'b', 'c'), ('c', 'a', 'b', 'a', 'b', 'a')}\n"
     ]
    }
   ],
   "source": [
    "A=['a','a','a','b','b','c']\n",
    "B=set(nPr(A))\n",
    "print(B)"
   ]
  },
  {
   "cell_type": "markdown",
   "metadata": {},
   "source": [
    "# 2. set으로 집합 연산"
   ]
  },
  {
   "cell_type": "code",
   "execution_count": 19,
   "metadata": {},
   "outputs": [
    {
     "name": "stdout",
     "output_type": "stream",
     "text": [
      "{1, 2, 3, 4, 5}\n",
      "{3}\n",
      "{1, 2, 4, 5}\n",
      "{1, 2}\n"
     ]
    }
   ],
   "source": [
    "A={1,2,3}\n",
    "B={3,4,5}\n",
    "print(A|B) # or\n",
    "print(A&B) # and\n",
    "print(A^B) # xor\n",
    "print(A-B)"
   ]
  },
  {
   "cell_type": "markdown",
   "metadata": {},
   "source": [
    "# 3. 집합 내에서 for·if문 사용하기 & join 사용해서 문자열 연결하기"
   ]
  },
  {
   "cell_type": "code",
   "execution_count": 26,
   "metadata": {},
   "outputs": [
    {
     "name": "stdout",
     "output_type": "stream",
     "text": [
      "[1, 2, 4, 5, 10, 20, 25, 50, 100]\n"
     ]
    }
   ],
   "source": [
    "K=list(range(1,101))\n",
    "E=[i for i in K if 100%i==0]\n",
    "print(E)"
   ]
  },
  {
   "cell_type": "code",
   "execution_count": 23,
   "metadata": {},
   "outputs": [
    {
     "name": "stdout",
     "output_type": "stream",
     "text": [
      "['bacaba', 'bbaaac', 'abacab', 'bcabaa', 'baabca', 'cbaaab', 'acbaab', 'bcbaaa', 'abcaba', 'caabab', 'aabcab', 'cbabaa', 'acbbaa', 'aacabb', 'aabacb', 'caaabb', 'bbacaa', 'ababac', 'acabba', 'abbaac', 'bacaab', 'bbaaca', 'aabbac', 'aaabcb', 'baacab', 'aaacbb', 'baaacb', 'bcaaab', 'aaabbc', 'aacbab', 'babaac', 'aababc', 'cabaab', 'cbbaaa', 'abbcaa', 'baaabc', 'cbaaba', 'abcaab', 'baabac', 'cabbaa', 'caabba', 'aabcba', 'acbaba', 'abaacb', 'abacba', 'abbaca', 'ababca', 'acaabb', 'bbcaaa', 'abcbaa', 'aabbca', 'baacba', 'babcaa', 'babaca', 'bcaaba', 'acabab', 'bacbaa', 'aacbba', 'abaabc', 'cababa']\n"
     ]
    }
   ],
   "source": [
    "A=['a','a','a','b','b','c']\n",
    "B=set(nPr(A))\n",
    "C=[''.join(i) for i in B]\n",
    "print(C)"
   ]
  }
 ],
 "metadata": {
  "kernelspec": {
   "display_name": "Python 3",
   "language": "python",
   "name": "python3"
  },
  "language_info": {
   "codemirror_mode": {
    "name": "ipython",
    "version": 3
   },
   "file_extension": ".py",
   "mimetype": "text/x-python",
   "name": "python",
   "nbconvert_exporter": "python",
   "pygments_lexer": "ipython3",
   "version": "3.8.8"
  }
 },
 "nbformat": 4,
 "nbformat_minor": 4
}
