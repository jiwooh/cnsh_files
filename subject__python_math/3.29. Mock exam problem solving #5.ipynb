{
 "cells": [
  {
   "cell_type": "code",
   "execution_count": 44,
   "metadata": {},
   "outputs": [],
   "source": [
    "from itertools import combinations as nCr\n",
    "from itertools import product as nΠr\n",
    "from fractions import Fraction"
   ]
  },
  {
   "cell_type": "markdown",
   "metadata": {},
   "source": [
    "# 1.\n",
    "![prob27](prob27.png)"
   ]
  },
  {
   "cell_type": "code",
   "execution_count": 33,
   "metadata": {},
   "outputs": [
    {
     "name": "stdout",
     "output_type": "stream",
     "text": [
      "17/29\n"
     ]
    }
   ],
   "source": [
    "A=['W1','W2','W3','W4','B3','B4','B5','B6']\n",
    "T=list(nCr(A,4))\n",
    "#P=[i for i in A if ''.join(i).count('3')==2 or ''.join(i).count('4')==2 if ''.join(i).count('B')==2]\n",
    "tmp=[]\n",
    "for x in T:\n",
    "    tmp.append(''.join(x))\n",
    "TP=[]\n",
    "for i in tmp:\n",
    "    if i.count('3')==2 or i.count('4')==2:\n",
    "        TP.append(i)\n",
    "P=[]\n",
    "for i in TP:\n",
    "    if i.count('B')==2:\n",
    "        P.append(i)\n",
    "print(Fraction(len(P),len(TP))) # T/TP"
   ]
  },
  {
   "cell_type": "markdown",
   "metadata": {},
   "source": [
    "# 2.\n",
    "![prob29](prob29.png)"
   ]
  },
  {
   "cell_type": "code",
   "execution_count": 98,
   "metadata": {
    "scrolled": true
   },
   "outputs": [
    {
     "name": "stdout",
     "output_type": "stream",
     "text": [
      "[(), ('R',), ('B',), ('B', 'R'), ('R', 'R'), ('B', 'R', 'R'), ('R', 'R', 'R'), ('R', 'R', 'R', 'R'), ('B', 'R', 'R', 'R'), ('B', 'R', 'R', 'R', 'R'), (), ('R',), ('B',), ('B', 'R'), ('B', 'B'), ('R', 'R'), ('B', 'R', 'R'), ('B', 'B', 'R'), ('R', 'R', 'R'), ('B', 'B', 'R', 'R'), ('B', 'R', 'R', 'R'), ('B', 'B', 'R', 'R', 'R'), (), ('R',), ('B',), ('B', 'R'), ('B', 'B'), ('R', 'R'), ('B', 'R', 'R'), ('B', 'B', 'R'), ('B', 'B', 'B'), ('B', 'B', 'R', 'R'), ('B', 'B', 'B', 'R'), ('B', 'B', 'B', 'R', 'R'), (), ('R',), ('B',), ('B', 'R'), ('B', 'B'), ('B', 'B', 'R'), ('B', 'B', 'B'), ('B', 'B', 'B', 'R'), ('B', 'B', 'B', 'B'), ('B', 'B', 'B', 'B', 'R'), (), ('L',), ('R',), ('L', 'R'), ('R', 'R'), ('L', 'R', 'R'), ('R', 'R', 'R'), ('R', 'R', 'R', 'R'), ('L', 'R', 'R', 'R'), ('L', 'R', 'R', 'R', 'R'), (), ('L',), ('R',), ('B',), ('B', 'R'), ('L', 'R'), ('L', 'B'), ('R', 'R'), ('B', 'R', 'R'), ('L', 'R', 'R'), ('R', 'R', 'R'), ('L', 'B', 'R'), ('L', 'R', 'R', 'R'), ('B', 'R', 'R', 'R'), ('L', 'B', 'R', 'R'), ('L', 'B', 'R', 'R', 'R'), (), ('L',), ('R',), ('B',), ('L', 'R'), ('L', 'B'), ('B', 'R'), ('R', 'R'), ('B', 'B'), ('L', 'B', 'B'), ('L', 'R', 'R'), ('B', 'B', 'R'), ('L', 'B', 'R'), ('B', 'R', 'R'), ('L', 'B', 'B', 'R'), ('B', 'B', 'R', 'R'), ('L', 'B', 'R', 'R'), ('L', 'B', 'B', 'R', 'R'), (), ('L',), ('R',), ('B',), ('B', 'R'), ('B', 'B'), ('L', 'R'), ('L', 'B'), ('L', 'B', 'B'), ('B', 'B', 'R'), ('B', 'B', 'B'), ('L', 'B', 'R'), ('L', 'B', 'B', 'R'), ('L', 'B', 'B', 'B'), ('B', 'B', 'B', 'R'), ('L', 'B', 'B', 'B', 'R'), (), ('L',), ('B',), ('B', 'B'), ('L', 'B'), ('L', 'B', 'B'), ('B', 'B', 'B'), ('L', 'B', 'B', 'B'), ('B', 'B', 'B', 'B'), ('L', 'B', 'B', 'B', 'B')]\n"
     ]
    },
    {
     "data": {
      "text/plain": [
       "114"
      ]
     },
     "execution_count": 98,
     "metadata": {},
     "output_type": "execute_result"
    }
   ],
   "source": [
    "L=range(0,2)\n",
    "B=range(0,5)\n",
    "R=range(0,5)\n",
    "tmp=list(nΠr(L,B,R))\n",
    "T=[i for i in tmp if sum(i)==5]\n",
    "P=[]\n",
    "for i in T:\n",
    "    s='L'*i[0]+'B'*i[1]+'R'*i[2]\n",
    "    for r in range(6):\n",
    "        P+=set(list(nCr(s,r)))\n",
    "print(P)\n",
    "len(P)"
   ]
  }
 ],
 "metadata": {
  "kernelspec": {
   "display_name": "Python 3",
   "language": "python",
   "name": "python3"
  },
  "language_info": {
   "codemirror_mode": {
    "name": "ipython",
    "version": 3
   },
   "file_extension": ".py",
   "mimetype": "text/x-python",
   "name": "python",
   "nbconvert_exporter": "python",
   "pygments_lexer": "ipython3",
   "version": "3.8.8"
  }
 },
 "nbformat": 4,
 "nbformat_minor": 4
}
