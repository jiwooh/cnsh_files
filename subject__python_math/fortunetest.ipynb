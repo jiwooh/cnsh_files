{
 "cells": [
  {
   "cell_type": "code",
   "execution_count": 44,
   "metadata": {},
   "outputs": [
    {
     "name": "stdout",
     "output_type": "stream",
     "text": [
      "5000번중 2520회 음수가더많았\n"
     ]
    }
   ],
   "source": [
    "import random\n",
    "n=720\n",
    "t=5000\n",
    "c=0\n",
    "for i in range(0,t):\n",
    "    A=[]\n",
    "    for i in range(0,n):\n",
    "        P=random.randrange(0,51)\n",
    "        M=-random.randrange(0,51)\n",
    "        A.append(P+M)\n",
    "    X=[0,0,0,0,0]\n",
    "    Y=[0,0]\n",
    "    for i in A:\n",
    "        if A[i]<-30:\n",
    "            X[0]=X[0]+1\n",
    "        elif -30<=A[i]<-10:\n",
    "            X[1]=X[1]+1\n",
    "        elif -10<=A[i]<10:\n",
    "            X[2]=X[2]+1\n",
    "        elif 10<=A[i]<30:\n",
    "            X[3]=X[3]+1\n",
    "        elif 30<=A[i]:\n",
    "            X[4]=X[4]+1\n",
    "    for i in A:\n",
    "        if A[i]<0:\n",
    "            Y[0]=Y[0]+1\n",
    "        elif A[i]>0:\n",
    "            Y[1]=Y[1]+1\n",
    "    a=''\n",
    "    if Y[0]>Y[1]:\n",
    "        a='음수가더많'\n",
    "    if a!='':\n",
    "        c=c+1\n",
    "    #print(X, Y, a)\n",
    "print('{}번중 {}회 음수가더많았'.format(t,c))"
   ]
  }
 ],
 "metadata": {
  "kernelspec": {
   "display_name": "Python 3",
   "language": "python",
   "name": "python3"
  },
  "language_info": {
   "codemirror_mode": {
    "name": "ipython",
    "version": 3
   },
   "file_extension": ".py",
   "mimetype": "text/x-python",
   "name": "python",
   "nbconvert_exporter": "python",
   "pygments_lexer": "ipython3",
   "version": "3.8.8"
  }
 },
 "nbformat": 4,
 "nbformat_minor": 4
}
