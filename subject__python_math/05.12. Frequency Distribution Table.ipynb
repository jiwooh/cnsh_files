{
 "cells": [
  {
   "cell_type": "code",
   "execution_count": 2,
   "metadata": {},
   "outputs": [],
   "source": [
    "import pandas as pd\n",
    "import numpy as np"
   ]
  },
  {
   "cell_type": "code",
   "execution_count": 4,
   "metadata": {},
   "outputs": [
    {
     "data": {
      "text/plain": [
       "26"
      ]
     },
     "execution_count": 4,
     "metadata": {},
     "output_type": "execute_result"
    }
   ],
   "source": [
    "weight=10,20,30,40,50,60,70,80,90,11,22,33,44,55,66,77,88,99,12,23,34,45,56,67,78,89\n",
    "len(weight)"
   ]
  },
  {
   "cell_type": "code",
   "execution_count": 5,
   "metadata": {},
   "outputs": [
    {
     "name": "stdout",
     "output_type": "stream",
     "text": [
      "[6. 6. 4. 6. 4.]\n"
     ]
    }
   ],
   "source": [
    "A=np.zeros(5)\n",
    "for i in weight:\n",
    "    A[(i-10)//18]+=1\n",
    "print(A)"
   ]
  },
  {
   "cell_type": "code",
   "execution_count": 15,
   "metadata": {},
   "outputs": [
    {
     "name": "stdout",
     "output_type": "stream",
     "text": [
      "10~27    6.0\n",
      "28~45    6.0\n",
      "46~63    4.0\n",
      "64~81    6.0\n",
      "82~99    4.0\n",
      "dtype: float64\n",
      "Index(['10~27', '28~45', '46~63', '64~81', '82~99'], dtype='object')\n",
      "10~27    6.0\n",
      "28~45    6.0\n",
      "46~63    4.0\n",
      "64~81    6.0\n",
      "82~99    4.0\n",
      "Name: random stuff, dtype: float64\n"
     ]
    }
   ],
   "source": [
    "grade=['10~27', '28~45', '46~63', '64~81', '82~99']\n",
    "B=pd.Series(A,index=grade)\n",
    "print(B)\n",
    "print(B.keys())\n",
    "\n",
    "B.name='random stuff'\n",
    "print(B)"
   ]
  },
  {
   "cell_type": "code",
   "execution_count": 17,
   "metadata": {},
   "outputs": [
    {
     "name": "stdout",
     "output_type": "stream",
     "text": [
      "1    100\n",
      "2    150\n",
      "3    -50\n",
      "4      0\n",
      "dtype: int64\n"
     ]
    }
   ],
   "source": [
    "C={1: 100, 2: 150, 3: -50, 4: 0}\n",
    "D=pd.Series(C)\n",
    "print(D)"
   ]
  },
  {
   "cell_type": "code",
   "execution_count": 21,
   "metadata": {},
   "outputs": [
    {
     "name": "stdout",
     "output_type": "stream",
     "text": [
      "0         1\n",
      "1         4\n",
      "2         7\n",
      "3     15212\n",
      "4         8\n",
      "5         2\n",
      "6         4\n",
      "7        65\n",
      "8        37\n",
      "9       634\n",
      "10     2257\n",
      "11      457\n",
      "12     1212\n",
      "dtype: int64\n",
      "0        11\n",
      "1        14\n",
      "2        17\n",
      "3     15222\n",
      "4        18\n",
      "5        12\n",
      "6        14\n",
      "7        75\n",
      "8        47\n",
      "9       644\n",
      "10     2267\n",
      "11      467\n",
      "12     1222\n",
      "dtype: int64\n"
     ]
    }
   ],
   "source": [
    "E=[1,4,7,15212,8,2,4,65,37,634,2257,457,1212]\n",
    "F=pd.Series(E)\n",
    "print(F)\n",
    "print(F+10)"
   ]
  },
  {
   "cell_type": "code",
   "execution_count": 34,
   "metadata": {},
   "outputs": [
    {
     "name": "stdout",
     "output_type": "stream",
     "text": [
      "       0       1\n",
      "0   45.0    12.0\n",
      "1   46.0    16.0\n",
      "2   48.0    27.0\n",
      "3   94.0    38.0\n",
      "4  345.0    58.0\n",
      "5  161.0    47.0\n",
      "6   27.0    25.0\n",
      "7   34.0    84.0\n",
      "8   83.0   621.0\n",
      "9   36.0  2727.0\n"
     ]
    }
   ],
   "source": [
    "G=np.zeros((10,2))\n",
    "G[:,0]=45,46,48,94,345,161,27,34,83,36\n",
    "G[:,1]=12,16,27,38,58,47,25,84,621,2727\n",
    "H=pd.DataFrame(G)\n",
    "print(H)"
   ]
  }
 ],
 "metadata": {
  "kernelspec": {
   "display_name": "Python 3",
   "language": "python",
   "name": "python3"
  },
  "language_info": {
   "codemirror_mode": {
    "name": "ipython",
    "version": 3
   },
   "file_extension": ".py",
   "mimetype": "text/x-python",
   "name": "python",
   "nbconvert_exporter": "python",
   "pygments_lexer": "ipython3",
   "version": "3.8.8"
  }
 },
 "nbformat": 4,
 "nbformat_minor": 4
}
