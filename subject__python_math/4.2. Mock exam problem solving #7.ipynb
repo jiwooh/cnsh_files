{
 "cells": [
  {
   "cell_type": "code",
   "execution_count": 1,
   "metadata": {},
   "outputs": [],
   "source": [
    "from itertools import permutations as nPr\n",
    "from itertools import product as nΠr\n",
    "from itertools import combinations as nCr\n",
    "from fractions import Fraction"
   ]
  },
  {
   "cell_type": "markdown",
   "metadata": {},
   "source": [
    "# 1.\n",
    "![prob192](prob192.png)"
   ]
  },
  {
   "cell_type": "code",
   "execution_count": 9,
   "metadata": {},
   "outputs": [
    {
     "name": "stdout",
     "output_type": "stream",
     "text": [
      "47/540\n"
     ]
    }
   ],
   "source": [
    "A=list(nΠr(range(1,7),repeat=3))\n",
    "B=list(nΠr(range(1,7),repeat=4))\n",
    "\n",
    "PA=[i for i in A if sum(i)==10]\n",
    "PB=[i for i in B if sum(i)==10]\n",
    "print(Fraction(2*len(PA),5*len(A))+Fraction(3*len(PB),5*len(B))) # P/T"
   ]
  }
 ],
 "metadata": {
  "kernelspec": {
   "display_name": "Python 3",
   "language": "python",
   "name": "python3"
  },
  "language_info": {
   "codemirror_mode": {
    "name": "ipython",
    "version": 3
   },
   "file_extension": ".py",
   "mimetype": "text/x-python",
   "name": "python",
   "nbconvert_exporter": "python",
   "pygments_lexer": "ipython3",
   "version": "3.8.8"
  }
 },
 "nbformat": 4,
 "nbformat_minor": 4
}
