{
 "cells": [
  {
   "cell_type": "code",
   "execution_count": 18,
   "metadata": {},
   "outputs": [],
   "source": [
    "from itertools import permutations as nPr \n",
    "from itertools import product as nΠr\n",
    "from fractions import Fraction"
   ]
  },
  {
   "cell_type": "markdown",
   "metadata": {},
   "source": [
    "# 1.\n",
    "![prob17](prob17.png)"
   ]
  },
  {
   "cell_type": "code",
   "execution_count": 14,
   "metadata": {},
   "outputs": [
    {
     "name": "stdout",
     "output_type": "stream",
     "text": [
      "1/14\n"
     ]
    }
   ],
   "source": [
    "T=list(nPr(range(1,8),7))\n",
    "P=[]\n",
    "for i in T:\n",
    "    a=i.index(4)\n",
    "    b=i.index(5)\n",
    "    if 1<=a<=5 and 1<=b<=5:\n",
    "        if i[a-1]>4 and i[a+1]>4 and i[b-1]<5 and i[b+1]<5:\n",
    "            P.append(i)\n",
    "# print(len(P))\n",
    "print(Fraction(len(P),len(T))) # P/T"
   ]
  },
  {
   "cell_type": "markdown",
   "metadata": {},
   "source": [
    "# 2.\n",
    "![prob19](prob19.png)"
   ]
  },
  {
   "cell_type": "code",
   "execution_count": 30,
   "metadata": {},
   "outputs": [
    {
     "name": "stdout",
     "output_type": "stream",
     "text": [
      "22/27\n"
     ]
    }
   ],
   "source": [
    "T=list(nΠr(range(1,4),repeat=4))\n",
    "P=[i for i in T if i[0]>=2 or set(i)==set(range(1,4))]\n",
    "print(Fraction(len(P),len(T))) # P/T"
   ]
  }
 ],
 "metadata": {
  "kernelspec": {
   "display_name": "Python 3",
   "language": "python",
   "name": "python3"
  },
  "language_info": {
   "codemirror_mode": {
    "name": "ipython",
    "version": 3
   },
   "file_extension": ".py",
   "mimetype": "text/x-python",
   "name": "python",
   "nbconvert_exporter": "python",
   "pygments_lexer": "ipython3",
   "version": "3.8.8"
  }
 },
 "nbformat": 4,
 "nbformat_minor": 4
}
