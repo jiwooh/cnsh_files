{
 "cells": [
  {
   "cell_type": "code",
   "execution_count": 93,
   "metadata": {},
   "outputs": [],
   "source": [
    "import itertools as it\n",
    "import copy"
   ]
  },
  {
   "cell_type": "markdown",
   "metadata": {},
   "source": [
    "# 0. 집합의 함수 구현"
   ]
  },
  {
   "cell_type": "markdown",
   "metadata": {},
   "source": [
    "## 1) 합집합"
   ]
  },
  {
   "cell_type": "code",
   "execution_count": 43,
   "metadata": {},
   "outputs": [
    {
     "name": "stdout",
     "output_type": "stream",
     "text": [
      "[1, 2, 3, 4, 5]\n"
     ]
    },
    {
     "data": {
      "text/plain": [
       "[1, 2, 3, 4, 5]"
      ]
     },
     "execution_count": 43,
     "metadata": {},
     "output_type": "execute_result"
    }
   ],
   "source": [
    "U=[1,2,3,4,5,6,7]\n",
    "A=[1,2,3]\n",
    "B=[3,4,5]\n",
    "C=[]\n",
    "for i in A:\n",
    "    if i not in B:\n",
    "        C.append(i)\n",
    "C+=B\n",
    "print(C)\n",
    "\n",
    "def union(a,b):\n",
    "    res=[]\n",
    "    for i in a:\n",
    "        if i not in b:\n",
    "            res.append(i)\n",
    "    res+=b\n",
    "    return res\n",
    "\n",
    "union(A,B)"
   ]
  },
  {
   "cell_type": "markdown",
   "metadata": {},
   "source": [
    "## 2) 교집합"
   ]
  },
  {
   "cell_type": "code",
   "execution_count": 41,
   "metadata": {},
   "outputs": [
    {
     "name": "stdout",
     "output_type": "stream",
     "text": [
      "[3]\n"
     ]
    },
    {
     "data": {
      "text/plain": [
       "[3]"
      ]
     },
     "execution_count": 41,
     "metadata": {},
     "output_type": "execute_result"
    }
   ],
   "source": [
    "U=[1,2,3,4,5,6,7]\n",
    "A=[1,2,3]\n",
    "B=[3,4,5]\n",
    "D=[]\n",
    "for i in A:\n",
    "    if i in B:\n",
    "        D.append(i)\n",
    "print(D)\n",
    "\n",
    "def intersection(a,b):\n",
    "    res=[]\n",
    "    for i in a:\n",
    "        if i in b:\n",
    "            res.append(i)\n",
    "    return res\n",
    "\n",
    "intersection(A,B)"
   ]
  },
  {
   "cell_type": "markdown",
   "metadata": {},
   "source": [
    "## 3) 차집합"
   ]
  },
  {
   "cell_type": "code",
   "execution_count": 97,
   "metadata": {},
   "outputs": [
    {
     "name": "stdout",
     "output_type": "stream",
     "text": [
      "[1, 2]\n"
     ]
    },
    {
     "data": {
      "text/plain": [
       "[1, 2]"
      ]
     },
     "execution_count": 97,
     "metadata": {},
     "output_type": "execute_result"
    }
   ],
   "source": [
    "U=[1,2,3,4,5,6,7]\n",
    "A=[1,2,3]\n",
    "B=[3,4,5]\n",
    "E=copy.copy(A)\n",
    "for i in A:\n",
    "    if i in B:\n",
    "        E.remove(i)\n",
    "print(E)\n",
    "\n",
    "def difference_of_sets(a,b):\n",
    "    res=copy.copy(a)\n",
    "    for i in a:\n",
    "        if i in b:\n",
    "            res.remove(i)\n",
    "    return res\n",
    "\n",
    "difference_of_sets(A,B)"
   ]
  },
  {
   "cell_type": "markdown",
   "metadata": {},
   "source": [
    "## 4) 여집합"
   ]
  },
  {
   "cell_type": "code",
   "execution_count": 94,
   "metadata": {},
   "outputs": [
    {
     "name": "stdout",
     "output_type": "stream",
     "text": [
      "[4, 5, 6, 7]\n"
     ]
    },
    {
     "data": {
      "text/plain": [
       "[4, 5, 6, 7]"
      ]
     },
     "execution_count": 94,
     "metadata": {},
     "output_type": "execute_result"
    }
   ],
   "source": [
    "U=[1,2,3,4,5,6,7]\n",
    "A=[1,2,3]\n",
    "B=[3,4,5]\n",
    "F=copy.copy(U)\n",
    "for i in A:\n",
    "    F.remove(i)\n",
    "print(F)\n",
    "\n",
    "def complement(u,a):\n",
    "    res=copy.copy(u)\n",
    "    for i in a:\n",
    "        res.remove(i)\n",
    "    return res\n",
    "\n",
    "complement(U,A)"
   ]
  },
  {
   "cell_type": "markdown",
   "metadata": {},
   "source": [
    "# 1. 500원 2개, 100원 7개, 50원 10개, 10원 5개로 만들 수 있는 금액?"
   ]
  },
  {
   "cell_type": "code",
   "execution_count": 34,
   "metadata": {
    "scrolled": true
   },
   "outputs": [
    {
     "name": "stdout",
     "output_type": "stream",
     "text": [
      "271\n",
      "[0, 10, 20, 30, 40, 50, 60, 70, 80, 90, 100, 110, 120, 130, 140, 150, 160, 170, 180, 190, 200, 210, 220, 230, 240, 250, 260, 270, 280, 290, 300, 310, 320, 330, 340, 350, 360, 370, 380, 390, 400, 410, 420, 430, 440, 450, 460, 470, 480, 490, 500, 510, 520, 530, 540, 550, 560, 570, 580, 590, 600, 610, 620, 630, 640, 650, 660, 670, 680, 690, 700, 710, 720, 730, 740, 750, 760, 770, 780, 790, 800, 810, 820, 830, 840, 850, 860, 870, 880, 890, 900, 910, 920, 930, 940, 950, 960, 970, 980, 990, 1000, 1010, 1020, 1030, 1040, 1050, 1060, 1070, 1080, 1090, 1100, 1110, 1120, 1130, 1140, 1150, 1160, 1170, 1180, 1190, 1200, 1210, 1220, 1230, 1240, 1250, 1260, 1270, 1280, 1290, 1300, 1310, 1320, 1330, 1340, 1350, 1360, 1370, 1380, 1390, 1400, 1410, 1420, 1430, 1440, 1450, 1460, 1470, 1480, 1490, 1500, 1510, 1520, 1530, 1540, 1550, 1560, 1570, 1580, 1590, 1600, 1610, 1620, 1630, 1640, 1650, 1660, 1670, 1680, 1690, 1700, 1710, 1720, 1730, 1740, 1750, 1760, 1770, 1780, 1790, 1800, 1810, 1820, 1830, 1840, 1850, 1860, 1870, 1880, 1890, 1900, 1910, 1920, 1930, 1940, 1950, 1960, 1970, 1980, 1990, 2000, 2010, 2020, 2030, 2040, 2050, 2060, 2070, 2080, 2090, 2100, 2110, 2120, 2130, 2140, 2150, 2160, 2170, 2180, 2190, 2200, 2210, 2220, 2230, 2240, 2250, 2260, 2270, 2280, 2290, 2300, 2310, 2320, 2330, 2340, 2350, 2360, 2370, 2380, 2390, 2400, 2410, 2420, 2430, 2440, 2450, 2460, 2470, 2480, 2490, 2500, 2510, 2520, 2530, 2540, 2550, 2560, 2570, 2580, 2590, 2600, 2610, 2620, 2630, 2640, 2650, 2660, 2670, 2680, 2690, 2700]\n"
     ]
    }
   ],
   "source": [
    "x=range(0,1001,500)\n",
    "y=range(0,701,100)\n",
    "z=range(0,501,50)\n",
    "w=range(0,501,10)\n",
    "K=list(it.product(x,y,z,w))\n",
    "\n",
    "res=[]\n",
    "for i in K:\n",
    "    if sum(i) not in res:\n",
    "        res.append(sum(i))\n",
    "print(len(res))\n",
    "print(res)"
   ]
  },
  {
   "cell_type": "markdown",
   "metadata": {},
   "source": [
    "# 2. 순열 테스트"
   ]
  },
  {
   "cell_type": "code",
   "execution_count": 91,
   "metadata": {},
   "outputs": [
    {
     "name": "stdout",
     "output_type": "stream",
     "text": [
      "120\n",
      "[('a', 'b', 'c', 'd', 'e'), ('a', 'b', 'c', 'e', 'd'), ('a', 'b', 'd', 'c', 'e'), ('a', 'b', 'd', 'e', 'c'), ('a', 'b', 'e', 'c', 'd'), ('a', 'b', 'e', 'd', 'c'), ('a', 'c', 'b', 'd', 'e'), ('a', 'c', 'b', 'e', 'd'), ('a', 'c', 'd', 'b', 'e'), ('a', 'c', 'd', 'e', 'b'), ('a', 'c', 'e', 'b', 'd'), ('a', 'c', 'e', 'd', 'b'), ('a', 'd', 'b', 'c', 'e'), ('a', 'd', 'b', 'e', 'c'), ('a', 'd', 'c', 'b', 'e'), ('a', 'd', 'c', 'e', 'b'), ('a', 'd', 'e', 'b', 'c'), ('a', 'd', 'e', 'c', 'b'), ('a', 'e', 'b', 'c', 'd'), ('a', 'e', 'b', 'd', 'c'), ('a', 'e', 'c', 'b', 'd'), ('a', 'e', 'c', 'd', 'b'), ('a', 'e', 'd', 'b', 'c'), ('a', 'e', 'd', 'c', 'b'), ('b', 'a', 'c', 'd', 'e'), ('b', 'a', 'c', 'e', 'd'), ('b', 'a', 'd', 'c', 'e'), ('b', 'a', 'd', 'e', 'c'), ('b', 'a', 'e', 'c', 'd'), ('b', 'a', 'e', 'd', 'c'), ('b', 'c', 'a', 'd', 'e'), ('b', 'c', 'a', 'e', 'd'), ('b', 'c', 'd', 'a', 'e'), ('b', 'c', 'd', 'e', 'a'), ('b', 'c', 'e', 'a', 'd'), ('b', 'c', 'e', 'd', 'a'), ('b', 'd', 'a', 'c', 'e'), ('b', 'd', 'a', 'e', 'c'), ('b', 'd', 'c', 'a', 'e'), ('b', 'd', 'c', 'e', 'a'), ('b', 'd', 'e', 'a', 'c'), ('b', 'd', 'e', 'c', 'a'), ('b', 'e', 'a', 'c', 'd'), ('b', 'e', 'a', 'd', 'c'), ('b', 'e', 'c', 'a', 'd'), ('b', 'e', 'c', 'd', 'a'), ('b', 'e', 'd', 'a', 'c'), ('b', 'e', 'd', 'c', 'a'), ('c', 'a', 'b', 'd', 'e'), ('c', 'a', 'b', 'e', 'd'), ('c', 'a', 'd', 'b', 'e'), ('c', 'a', 'd', 'e', 'b'), ('c', 'a', 'e', 'b', 'd'), ('c', 'a', 'e', 'd', 'b'), ('c', 'b', 'a', 'd', 'e'), ('c', 'b', 'a', 'e', 'd'), ('c', 'b', 'd', 'a', 'e'), ('c', 'b', 'd', 'e', 'a'), ('c', 'b', 'e', 'a', 'd'), ('c', 'b', 'e', 'd', 'a'), ('c', 'd', 'a', 'b', 'e'), ('c', 'd', 'a', 'e', 'b'), ('c', 'd', 'b', 'a', 'e'), ('c', 'd', 'b', 'e', 'a'), ('c', 'd', 'e', 'a', 'b'), ('c', 'd', 'e', 'b', 'a'), ('c', 'e', 'a', 'b', 'd'), ('c', 'e', 'a', 'd', 'b'), ('c', 'e', 'b', 'a', 'd'), ('c', 'e', 'b', 'd', 'a'), ('c', 'e', 'd', 'a', 'b'), ('c', 'e', 'd', 'b', 'a'), ('d', 'a', 'b', 'c', 'e'), ('d', 'a', 'b', 'e', 'c'), ('d', 'a', 'c', 'b', 'e'), ('d', 'a', 'c', 'e', 'b'), ('d', 'a', 'e', 'b', 'c'), ('d', 'a', 'e', 'c', 'b'), ('d', 'b', 'a', 'c', 'e'), ('d', 'b', 'a', 'e', 'c'), ('d', 'b', 'c', 'a', 'e'), ('d', 'b', 'c', 'e', 'a'), ('d', 'b', 'e', 'a', 'c'), ('d', 'b', 'e', 'c', 'a'), ('d', 'c', 'a', 'b', 'e'), ('d', 'c', 'a', 'e', 'b'), ('d', 'c', 'b', 'a', 'e'), ('d', 'c', 'b', 'e', 'a'), ('d', 'c', 'e', 'a', 'b'), ('d', 'c', 'e', 'b', 'a'), ('d', 'e', 'a', 'b', 'c'), ('d', 'e', 'a', 'c', 'b'), ('d', 'e', 'b', 'a', 'c'), ('d', 'e', 'b', 'c', 'a'), ('d', 'e', 'c', 'a', 'b'), ('d', 'e', 'c', 'b', 'a'), ('e', 'a', 'b', 'c', 'd'), ('e', 'a', 'b', 'd', 'c'), ('e', 'a', 'c', 'b', 'd'), ('e', 'a', 'c', 'd', 'b'), ('e', 'a', 'd', 'b', 'c'), ('e', 'a', 'd', 'c', 'b'), ('e', 'b', 'a', 'c', 'd'), ('e', 'b', 'a', 'd', 'c'), ('e', 'b', 'c', 'a', 'd'), ('e', 'b', 'c', 'd', 'a'), ('e', 'b', 'd', 'a', 'c'), ('e', 'b', 'd', 'c', 'a'), ('e', 'c', 'a', 'b', 'd'), ('e', 'c', 'a', 'd', 'b'), ('e', 'c', 'b', 'a', 'd'), ('e', 'c', 'b', 'd', 'a'), ('e', 'c', 'd', 'a', 'b'), ('e', 'c', 'd', 'b', 'a'), ('e', 'd', 'a', 'b', 'c'), ('e', 'd', 'a', 'c', 'b'), ('e', 'd', 'b', 'a', 'c'), ('e', 'd', 'b', 'c', 'a'), ('e', 'd', 'c', 'a', 'b'), ('e', 'd', 'c', 'b', 'a')]\n"
     ]
    }
   ],
   "source": [
    "X=['a','b','c','d','e']\n",
    "Y=list(it.permutations(X,5))\n",
    "print(len(Y))\n",
    "print(Y)"
   ]
  }
 ],
 "metadata": {
  "kernelspec": {
   "display_name": "Python 3",
   "language": "python",
   "name": "python3"
  },
  "language_info": {
   "codemirror_mode": {
    "name": "ipython",
    "version": 3
   },
   "file_extension": ".py",
   "mimetype": "text/x-python",
   "name": "python",
   "nbconvert_exporter": "python",
   "pygments_lexer": "ipython3",
   "version": "3.8.8"
  }
 },
 "nbformat": 4,
 "nbformat_minor": 4
}
