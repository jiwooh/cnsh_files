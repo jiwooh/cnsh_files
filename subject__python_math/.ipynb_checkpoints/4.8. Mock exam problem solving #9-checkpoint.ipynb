{
 "cells": [
  {
   "cell_type": "code",
   "execution_count": 5,
   "metadata": {},
   "outputs": [],
   "source": [
    "from itertools import permutations as nPr\n",
    "from itertools import product as nΠr\n",
    "from itertools import combinations as nCr\n",
    "from itertools import combinations_with_replacement as nHr\n",
    "from fractions import Fraction"
   ]
  },
  {
   "cell_type": "markdown",
   "metadata": {},
   "source": [
    "# 1.\n",
    "![prob292](prob292.png)"
   ]
  },
  {
   "cell_type": "code",
   "execution_count": 14,
   "metadata": {},
   "outputs": [
    {
     "data": {
      "text/plain": [
       "('Ab', 'Ab', 'Ab', 'Ab', 'Ab', 'Db', 'Cw', 'Cw', 'Cw', 'Cw', 'Cw', 'Dw')"
      ]
     },
     "execution_count": 14,
     "metadata": {},
     "output_type": "execute_result"
    }
   ],
   "source": [
    "b=['Ab','Bb','Cb','Db']\n",
    "w=['Aw','Bw','Cw','Dw']\n",
    "tb=list(nHr(b,6))\n",
    "tw=list(nHr(w,6))\n",
    "tempAll=list(nΠr(tb,tw))\n",
    "All=[i[0]+i[1] for i in tempAll]\n",
    "All[330]"
   ]
  },
  {
   "cell_type": "code",
   "execution_count": 16,
   "metadata": {},
   "outputs": [
    {
     "name": "stdout",
     "output_type": "stream",
     "text": [
      "{'A', 'D', 'C'}\n"
     ]
    }
   ],
   "source": [
    "tmp=('Ab', 'Ab', 'Ab', 'Ab', 'Ab', 'Db', 'Cw', 'Cw', 'Cw', 'Cw', 'Cw', 'Dw')\n",
    "tmp2=set([i[0] for i in tmp])\n",
    "print(tmp2)"
   ]
  }
 ],
 "metadata": {
  "kernelspec": {
   "display_name": "Python 3",
   "language": "python",
   "name": "python3"
  },
  "language_info": {
   "codemirror_mode": {
    "name": "ipython",
    "version": 3
   },
   "file_extension": ".py",
   "mimetype": "text/x-python",
   "name": "python",
   "nbconvert_exporter": "python",
   "pygments_lexer": "ipython3",
   "version": "3.8.8"
  }
 },
 "nbformat": 4,
 "nbformat_minor": 4
}
