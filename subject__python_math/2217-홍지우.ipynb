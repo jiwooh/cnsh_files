{
 "cells": [
  {
   "cell_type": "code",
   "execution_count": 17,
   "metadata": {},
   "outputs": [],
   "source": [
    "from itertools import product as nΠr\n",
    "from itertools import permutations as nPr\n",
    "from itertools import combinations as nCr\n",
    "from itertools import combinations_with_replacement as nHr\n",
    "from fractions import Fraction"
   ]
  },
  {
   "cell_type": "markdown",
   "metadata": {},
   "source": [
    "## 8쪽 상 문제: 주머니~"
   ]
  },
  {
   "cell_type": "code",
   "execution_count": 18,
   "metadata": {},
   "outputs": [
    {
     "name": "stdout",
     "output_type": "stream",
     "text": [
      "2/9\n"
     ]
    }
   ],
   "source": [
    "A=['w1','w2','w3','w4','w5','b3','b4','b5','b6','b7']\n",
    "B=list(nCr(A,4))\n",
    "C=[]\n",
    "D=[]\n",
    "for i in B:\n",
    "    j=''.join(i)\n",
    "    if j.count('3')==2 or j.count('4')==2 or j.count('5')==2:\n",
    "        C.append(i)\n",
    "        if j.count('b')==3:\n",
    "            D.append(i)\n",
    "print(Fraction(len(D),len(C))) # p=9, q=2\n",
    "#print(9+2)"
   ]
  }
 ],
 "metadata": {
  "kernelspec": {
   "display_name": "Python 3",
   "language": "python",
   "name": "python3"
  },
  "language_info": {
   "codemirror_mode": {
    "name": "ipython",
    "version": 3
   },
   "file_extension": ".py",
   "mimetype": "text/x-python",
   "name": "python",
   "nbconvert_exporter": "python",
   "pygments_lexer": "ipython3",
   "version": "3.8.8"
  }
 },
 "nbformat": 4,
 "nbformat_minor": 4
}
