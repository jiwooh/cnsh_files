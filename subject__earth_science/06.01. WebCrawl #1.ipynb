{
 "cells": [
  {
   "cell_type": "code",
   "execution_count": 46,
   "metadata": {},
   "outputs": [
    {
     "name": "stdout",
     "output_type": "stream",
     "text": [
      "[<dd class=\"lv2\"><span class=\"num\">38㎍/㎥</span>보통<span class=\"ico\"></span></dd>,\n",
      " <dd class=\"lv2\"><span class=\"num\">25㎍/㎥</span>보통<span class=\"ico\"></span></dd>,\n",
      " <dd class=\"lv2\"><span class=\"num\">0.057ppm</span>보통<span class=\"ico\"></span></dd>]\n",
      "38㎍/㎥ 25㎍/㎥\n"
     ]
    }
   ],
   "source": [
    "from bs4 import BeautifulSoup as bs\n",
    "from pprint import pprint\n",
    "import requests\n",
    "\n",
    "html = requests.get('https://search.naver.com/search.naver?query=날씨')\n",
    "soup = bs(html.text,'html.parser')\n",
    "\n",
    "data1 = soup.find('div',{'class':'detail_box'})\n",
    "#pprint(data1)\n",
    "\n",
    "data2 = data1.findAll('dd')\n",
    "pprint(data2)\n",
    "\n",
    "fine_dust = data2[0].find('span',{'class':'num'}).text\n",
    "ultra_fine_dust = data2[1].find('span',{'class':'num'}).text\n",
    "print(fine_dust, ultra_fine_dust)"
   ]
  }
 ],
 "metadata": {
  "kernelspec": {
   "display_name": "Python 3",
   "language": "python",
   "name": "python3"
  },
  "language_info": {
   "codemirror_mode": {
    "name": "ipython",
    "version": 3
   },
   "file_extension": ".py",
   "mimetype": "text/x-python",
   "name": "python",
   "nbconvert_exporter": "python",
   "pygments_lexer": "ipython3",
   "version": "3.8.8"
  }
 },
 "nbformat": 4,
 "nbformat_minor": 4
}
