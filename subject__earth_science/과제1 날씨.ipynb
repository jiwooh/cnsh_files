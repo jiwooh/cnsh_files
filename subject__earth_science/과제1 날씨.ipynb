{
 "cells": [
  {
   "cell_type": "code",
   "execution_count": 72,
   "metadata": {},
   "outputs": [],
   "source": [
    "from bs4 import BeautifulSoup as bs\n",
    "from pprint import pprint\n",
    "import requests"
   ]
  },
  {
   "cell_type": "code",
   "execution_count": 73,
   "metadata": {},
   "outputs": [],
   "source": [
    "html = requests.get('https://weather.naver.com/')\n",
    "soup = bs(html.text,'html.parser')\n",
    "#pprint(soup)"
   ]
  },
  {
   "cell_type": "code",
   "execution_count": 74,
   "metadata": {},
   "outputs": [
    {
     "name": "stdout",
     "output_type": "stream",
     "text": [
      "오늘의 일몰 시간: 19:47\n"
     ]
    }
   ],
   "source": [
    "data1 = soup.find('li',{'class':'item_today type_sun'})\n",
    "#pprint(data1)\n",
    "\n",
    "data2 = data1.find('em',{'class':'level_text'}).text\n",
    "print('오늘의 일몰 시간: '+data2)"
   ]
  },
  {
   "cell_type": "code",
   "execution_count": 75,
   "metadata": {},
   "outputs": [
    {
     "name": "stdout",
     "output_type": "stream",
     "text": [
      "강수: 30%, 습도: 68%, 동풍: 2m/s, 체감: 23°\n"
     ]
    }
   ],
   "source": [
    "data3 = soup.find('dl',{'class':'summary_list'})\n",
    "#pprint(data3)\n",
    "\n",
    "data4 = data3.findAll('dd',{'class':'desc'})\n",
    "#pprint(data4)\n",
    "\n",
    "A=[data4[i].text for i in range(0,len(data4))]\n",
    "print(f'강수: {A[0]}, 습도: {A[1]}, 동풍: {A[2]}, 체감: {A[3]}')"
   ]
  }
 ],
 "metadata": {
  "kernelspec": {
   "display_name": "Python 3",
   "language": "python",
   "name": "python3"
  },
  "language_info": {
   "codemirror_mode": {
    "name": "ipython",
    "version": 3
   },
   "file_extension": ".py",
   "mimetype": "text/x-python",
   "name": "python",
   "nbconvert_exporter": "python",
   "pygments_lexer": "ipython3",
   "version": "3.8.8"
  }
 },
 "nbformat": 4,
 "nbformat_minor": 4
}
