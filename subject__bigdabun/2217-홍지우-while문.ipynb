{
 "cells": [
  {
   "cell_type": "code",
   "execution_count": 5,
   "metadata": {},
   "outputs": [
    {
     "name": "stdout",
     "output_type": "stream",
     "text": [
      "공사가 완료됨\n",
      "ㄱ\n",
      "공사가 완료됨\n",
      "ㄴ\n",
      "공사가 완료됨\n",
      "ㄷ\n",
      "공사가 완료됨\n",
      "ㄹ\n",
      "공사가 완료됨\n",
      "알겠음\n",
      "while문 탈출\n"
     ]
    }
   ],
   "source": [
    "under_construction=True\n",
    "while under_construction:\n",
    "    response=input('공사가 완료됨\\n')\n",
    "    if response=='알겠음':\n",
    "        under_construction=False\n",
    "print('while문 탈출')"
   ]
  }
 ],
 "metadata": {
  "kernelspec": {
   "display_name": "Python 3",
   "language": "python",
   "name": "python3"
  },
  "language_info": {
   "codemirror_mode": {
    "name": "ipython",
    "version": 3
   },
   "file_extension": ".py",
   "mimetype": "text/x-python",
   "name": "python",
   "nbconvert_exporter": "python",
   "pygments_lexer": "ipython3",
   "version": "3.8.8"
  }
 },
 "nbformat": 4,
 "nbformat_minor": 4
}
