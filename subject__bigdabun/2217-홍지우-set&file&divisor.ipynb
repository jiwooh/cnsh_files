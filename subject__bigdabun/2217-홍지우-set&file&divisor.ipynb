{
 "cells": [
  {
   "cell_type": "code",
   "execution_count": 8,
   "metadata": {},
   "outputs": [
    {
     "name": "stdout",
     "output_type": "stream",
     "text": [
      "{1, 2, 3, 4, 5}\n",
      "{1, 2, 3, 4, 5}\n",
      "a 안에 1 존재\n",
      "{1, 2, 3, 4, 5, 46}\n",
      "{1, 2, 4, 5, 46}\n",
      "True\n",
      "26 1 [1, 2, 4, 6, 9, 14, 26] 62\n"
     ]
    }
   ],
   "source": [
    "a=set([1,2,3,4,5])\n",
    "print(a)\n",
    "a=set([1,2,3,1,2,3,4,5])\n",
    "print(a)\n",
    "\n",
    "if 1 in a:\n",
    "    print('a 안에 1 존재')\n",
    "\n",
    "a.add(46)\n",
    "print(a)\n",
    "a.remove(3)\n",
    "print(a)\n",
    "\n",
    "a={1,2,3}\n",
    "b={3,2,1}\n",
    "print(a==b)\n",
    "\n",
    "a={1,2,4,6,9,14,26}\n",
    "print(max(a), min(a), sorted(a), sum(a))"
   ]
  },
  {
   "cell_type": "code",
   "execution_count": 10,
   "metadata": {},
   "outputs": [
    {
     "name": "stdout",
     "output_type": "stream",
     "text": [
      "{3, 4} {3, 4}\n",
      "{1, 2} {1, 2}\n",
      "{1, 2, 5} {1, 2, 5}\n"
     ]
    }
   ],
   "source": [
    "b={1,2,3,4}\n",
    "c={3,4,5}\n",
    "\n",
    "print(b&c, b.intersection(c)) #교집합\n",
    "print(b-c, b.difference(c)) #차집합\n",
    "print(b^c, b.symmetric_difference(c)) #대칭차집합"
   ]
  },
  {
   "cell_type": "code",
   "execution_count": 12,
   "metadata": {},
   "outputs": [],
   "source": [
    "f=open('hello.txt', 'w')\n",
    "f.write('Hello World!')\n",
    "f.close()"
   ]
  },
  {
   "cell_type": "code",
   "execution_count": 13,
   "metadata": {},
   "outputs": [
    {
     "name": "stdout",
     "output_type": "stream",
     "text": [
      "Hello World!\n"
     ]
    }
   ],
   "source": [
    "f=open('hello.txt', 'r')\n",
    "s=f.read()\n",
    "print(s)\n",
    "f.close()"
   ]
  },
  {
   "cell_type": "code",
   "execution_count": 14,
   "metadata": {},
   "outputs": [
    {
     "name": "stdout",
     "output_type": "stream",
     "text": [
      "5040 의 진약수 : [2, 3, 4, 5, 6, 7, 8, 9, 10, 12, 14, 15, 16, 18, 20, 21, 24, 28, 30, 35, 36, 40, 42, 45, 48, 56, 60, 63, 70, 72, 80, 84, 90, 105, 112, 120, 126, 140, 144, 168, 180, 210, 240, 252, 280, 315, 336, 360, 420, 504, 560, 630, 720, 840, 1008, 1260, 1680, 2520]\n"
     ]
    }
   ],
   "source": [
    "num=5040\n",
    "divisors=[]\n",
    "for i in range(2, num):\n",
    "    if num%i==0:\n",
    "        divisors.append(i)\n",
    "print(num, '의 진약수 :', divisors)"
   ]
  }
 ],
 "metadata": {
  "kernelspec": {
   "display_name": "Python 3",
   "language": "python",
   "name": "python3"
  },
  "language_info": {
   "codemirror_mode": {
    "name": "ipython",
    "version": 3
   },
   "file_extension": ".py",
   "mimetype": "text/x-python",
   "name": "python",
   "nbconvert_exporter": "python",
   "pygments_lexer": "ipython3",
   "version": "3.8.8"
  }
 },
 "nbformat": 4,
 "nbformat_minor": 4
}
