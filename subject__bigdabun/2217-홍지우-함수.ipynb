{
 "cells": [
  {
   "cell_type": "code",
   "execution_count": 1,
   "metadata": {},
   "outputs": [
    {
     "name": "stdout",
     "output_type": "stream",
     "text": [
      "햄버거 1개, 피클 True, 양파 False\n",
      "햄버거 2개, 피클 True, 양파 True\n"
     ]
    }
   ],
   "source": [
    "def order(num, pickle=True, onion=True):\n",
    "    print('햄버거 {0}개, 피클 {1}, 양파 {2}'.format(num, pickle, onion))\n",
    "\n",
    "order(1, True, False)\n",
    "order(2)"
   ]
  }
 ],
 "metadata": {
  "kernelspec": {
   "display_name": "Python 3",
   "language": "python",
   "name": "python3"
  },
  "language_info": {
   "codemirror_mode": {
    "name": "ipython",
    "version": 3
   },
   "file_extension": ".py",
   "mimetype": "text/x-python",
   "name": "python",
   "nbconvert_exporter": "python",
   "pygments_lexer": "ipython3",
   "version": "3.8.8"
  }
 },
 "nbformat": 4,
 "nbformat_minor": 4
}
