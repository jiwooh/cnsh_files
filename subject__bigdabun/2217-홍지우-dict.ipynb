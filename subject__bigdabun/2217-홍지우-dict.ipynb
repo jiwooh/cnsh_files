{
 "cells": [
  {
   "cell_type": "code",
   "execution_count": 17,
   "metadata": {},
   "outputs": [
    {
     "name": "stdout",
     "output_type": "stream",
     "text": [
      "{1: 11, 2: 22, 3: 33, 4: 44, 5: 55}\n",
      "{1: 11, 2: 200, 3: 33, 4: 44, 5: 55}\n",
      "dict_keys([1, 2, 3, 4, 5])\n",
      "dict_values([11, 200, 33, 44, 55])\n",
      "dict_items([(1, 11), (2, 200), (3, 33), (4, 44), (5, 55)])\n",
      "33\n",
      "{1: 11, 2: 200, 3: 33, 4: 44, 5: 55}\n",
      "44\n",
      "{1: 11, 2: 200, 3: 33, 5: 55}\n",
      "{1: 11, 2: 200, 3: 33, 5: 55, 4: 0}\n",
      "[(4, 0), (1, 11), (3, 33), (5, 55), (2, 200)]\n",
      "[(1, 11), (2, 200), (3, 33), (4, 0), (5, 55)]\n",
      "{}\n"
     ]
    }
   ],
   "source": [
    "a={1:11, 2:22, 3:33, 4:44, 5:55}\n",
    "print(a)\n",
    "a[2]=200\n",
    "print(a)\n",
    "\n",
    "print(a.keys())\n",
    "print(a.values())\n",
    "print(a.items())\n",
    "\n",
    "print(a.get(3))\n",
    "print(a)\n",
    "print(a.pop(4))\n",
    "print(a)\n",
    "\n",
    "a[4]=0\n",
    "print(a)\n",
    "\n",
    "b=sorted(a.items(), key=lambda x: x[1])\n",
    "print(b)\n",
    "\n",
    "b=sorted(a.items(), key=lambda x: x[0])\n",
    "print(b)\n",
    "\n",
    "a.clear()\n",
    "print(a)"
   ]
  }
 ],
 "metadata": {
  "kernelspec": {
   "display_name": "Python 3",
   "language": "python",
   "name": "python3"
  },
  "language_info": {
   "codemirror_mode": {
    "name": "ipython",
    "version": 3
   },
   "file_extension": ".py",
   "mimetype": "text/x-python",
   "name": "python",
   "nbconvert_exporter": "python",
   "pygments_lexer": "ipython3",
   "version": "3.8.8"
  }
 },
 "nbformat": 4,
 "nbformat_minor": 4
}
