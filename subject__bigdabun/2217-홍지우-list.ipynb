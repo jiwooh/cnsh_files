{
 "cells": [
  {
   "cell_type": "code",
   "execution_count": 11,
   "metadata": {},
   "outputs": [
    {
     "name": "stdout",
     "output_type": "stream",
     "text": [
      "['a', 'b', 'c', 'd', 'e', 'f', 'g']\n",
      "['a', 'b', 'c', 'd', 'e', 'f', 'g', 'i']\n",
      "c d\n",
      "i\n",
      "False\n",
      "<class 'list'>\n",
      "i a\n",
      "7\n",
      "['e', 'f', 'g', 'i']\n",
      "['d', 'f', 'i']\n"
     ]
    }
   ],
   "source": [
    "letters=['a','b','c','d','e','f','g']\n",
    "print(letters)\n",
    "letters.append('i')\n",
    "print(letters)\n",
    "letters.remove('b')\n",
    "print(letters[1], letters[2])\n",
    "print(letters[-1])\n",
    "print('b' in letters)\n",
    "print(type(letters))\n",
    "print(max(letters), min(letters))\n",
    "print(len(letters))\n",
    "print(letters[3:])\n",
    "print(letters[2::2])"
   ]
  }
 ],
 "metadata": {
  "kernelspec": {
   "display_name": "Python 3",
   "language": "python",
   "name": "python3"
  },
  "language_info": {
   "codemirror_mode": {
    "name": "ipython",
    "version": 3
   },
   "file_extension": ".py",
   "mimetype": "text/x-python",
   "name": "python",
   "nbconvert_exporter": "python",
   "pygments_lexer": "ipython3",
   "version": "3.8.8"
  }
 },
 "nbformat": 4,
 "nbformat_minor": 4
}
