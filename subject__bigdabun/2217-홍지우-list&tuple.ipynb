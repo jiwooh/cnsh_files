{
 "cells": [
  {
   "cell_type": "code",
   "execution_count": 4,
   "metadata": {},
   "outputs": [
    {
     "name": "stdout",
     "output_type": "stream",
     "text": [
      "[1, 4, 9, 16, 25, 36, 49, 64, 81, 100, 121, 144, 169, 196]\n",
      "['W', 'T', 'P', 'H', 'W']\n",
      "[1, 9, 25, 49, 81, 121, 169]\n"
     ]
    }
   ],
   "source": [
    "a=[x*x for x in range(1,15)]\n",
    "print(a)\n",
    "b=['welcome', 'to', 'python', 'hello', 'world']\n",
    "print([x[0].upper() for x in b])\n",
    "c=[x*x for x in range(1,15) if x%2]\n",
    "print(c)"
   ]
  },
  {
   "cell_type": "code",
   "execution_count": 11,
   "metadata": {},
   "outputs": [
    {
     "name": "stdout",
     "output_type": "stream",
     "text": [
      "('red', 'blue', 'and', 'green')\n",
      "('red', 'blue', 'and')\n",
      "('red', 'blue', 'and', 'green', 'and', 'yellow')\n",
      "('red', 'blue', 'and', 'green') ('and', 'yellow')\n",
      "('and', 'yellow') ('red', 'blue', 'and', 'green')\n"
     ]
    }
   ],
   "source": [
    "d=('red','blue','and','green')\n",
    "print(d)\n",
    "print(d[:3])\n",
    "e=('and','yellow')\n",
    "print(d+e)\n",
    "\n",
    "print(d,e)\n",
    "d,e=e,d\n",
    "print(d,e)"
   ]
  },
  {
   "cell_type": "code",
   "execution_count": 13,
   "metadata": {},
   "outputs": [
    {
     "name": "stdout",
     "output_type": "stream",
     "text": [
      "(8, -2)\n"
     ]
    }
   ],
   "source": [
    "def calc(a,b):\n",
    "    return a+b, a-b\n",
    "print(calc(3,5)) # is a tuple"
   ]
  }
 ],
 "metadata": {
  "kernelspec": {
   "display_name": "Python 3",
   "language": "python",
   "name": "python3"
  },
  "language_info": {
   "codemirror_mode": {
    "name": "ipython",
    "version": 3
   },
   "file_extension": ".py",
   "mimetype": "text/x-python",
   "name": "python",
   "nbconvert_exporter": "python",
   "pygments_lexer": "ipython3",
   "version": "3.8.8"
  }
 },
 "nbformat": 4,
 "nbformat_minor": 4
}
