{
 "cells": [
  {
   "cell_type": "code",
   "execution_count": 28,
   "metadata": {},
   "outputs": [
    {
     "name": "stdout",
     "output_type": "stream",
     "text": [
      "[1, 2, 3, 4, 5, 6]\n",
      "[1, 2, 3, 4, 'Four', 5, 6]\n",
      "[3, 4]\n",
      "[1, 2, 3, 30, 'Four', 5, 6]\n",
      "[1, 2, 30, 'Four', 5, 6]\n",
      "[6, 5, 'Four', 30, 2, 1]\n",
      "[6, 11, 'Four', 30, 2, 1]\n",
      "2387553425472 2387553425472\n",
      "*2387553373632* 2387553425472 2387553425472\n",
      "3\n",
      "[1, 2, 6, 11, 30]\n",
      "[30, 11, 6, 2, 1]\n"
     ]
    }
   ],
   "source": [
    "s=[1,2,3,4,5,6]\n",
    "print(s)\n",
    "\n",
    "s.insert(4, 'Four')\n",
    "print(s)\n",
    "\n",
    "print(s[2:4])\n",
    "\n",
    "s[3]=30\n",
    "print(s)\n",
    "\n",
    "s.remove(3)\n",
    "print(s)\n",
    "\n",
    "s.reverse()\n",
    "print(s)\n",
    "\n",
    "t=s\n",
    "t[1]=11\n",
    "print(t)\n",
    "print(id(s), id(t))\n",
    "\n",
    "u=s[:]\n",
    "print('*'+str(id(u))+'*', id(s), id(t))\n",
    "\n",
    "print(s.index(30))\n",
    "\n",
    "s.remove('Four')\n",
    "s.sort()\n",
    "print(s)\n",
    "\n",
    "s.sort(reverse=True)\n",
    "print(s)"
   ]
  }
 ],
 "metadata": {
  "kernelspec": {
   "display_name": "Python 3",
   "language": "python",
   "name": "python3"
  },
  "language_info": {
   "codemirror_mode": {
    "name": "ipython",
    "version": 3
   },
   "file_extension": ".py",
   "mimetype": "text/x-python",
   "name": "python",
   "nbconvert_exporter": "python",
   "pygments_lexer": "ipython3",
   "version": "3.8.8"
  }
 },
 "nbformat": 4,
 "nbformat_minor": 4
}
