{
 "cells": [
  {
   "cell_type": "code",
   "execution_count": null,
   "metadata": {
    "id": "awMA1gtqcvMx"
   },
   "outputs": [],
   "source": [
    "import matplotlib.pyplot as plt\n",
    "import pandas as pd\n",
    "import json"
   ]
  },
  {
   "cell_type": "markdown",
   "metadata": {
    "id": "eZUEnImWUJhW"
   },
   "source": [
    "# **1. 시도별 폐암 환자 수 데이터 가공**"
   ]
  },
  {
   "cell_type": "code",
   "execution_count": null,
   "metadata": {
    "colab": {
     "base_uri": "https://localhost:8080/",
     "height": 576
    },
    "id": "PJMN6SZiNtgT",
    "outputId": "aa4ef054-5773-458b-a98f-2015db19182f"
   },
   "outputs": [],
   "source": [
    "nc=pd.read_csv('newcancer.csv')\n",
    "nc=nc.iloc[1:18]\n",
    "nc['지역']=nc['지역'].str.replace('제주도', '제주특별자치도')\n",
    "nc['환자수']=nc['환자수'].astype(str).str.replace(',','').astype(int).astype(object)\n",
    "nc['CTPRVN_CD']=nc['CTPRVN_CD'].astype(str).str.replace('\\.0','')\n",
    "nc"
   ]
  },
  {
   "cell_type": "markdown",
   "metadata": {
    "id": "BwgbX7Wsah3s"
   },
   "source": [
    "# **2. 미세먼지 데이터 가공**"
   ]
  },
  {
   "cell_type": "code",
   "execution_count": null,
   "metadata": {
    "colab": {
     "base_uri": "https://localhost:8080/",
     "height": 576
    },
    "id": "imW-sfe-ahM9",
    "outputId": "54465d33-a513-4d2f-f830-90b2e8633707"
   },
   "outputs": [],
   "source": [
    "mj=pd.read_csv('meonji.csv')\n",
    "mj=mj.iloc[1:]\n",
    "mj.drop(['순위', '비율(%)'], axis=1, inplace=True)\n",
    "mj['미세먼지 오염도(㎍/㎥)']=mj['미세먼지 오염도(㎍/㎥)'].astype(float).astype(object)\n",
    "mj['CTPRVN_CD']=mj['CTPRVN_CD'].astype(str).str.replace('\\.0','')\n",
    "mj=mj.drop_duplicates()\n",
    "mj"
   ]
  },
  {
   "cell_type": "markdown",
   "metadata": {
    "id": "8pVZixiuX-BU"
   },
   "source": [
    "# **3. 폐암 환자수 지도 (unused)**"
   ]
  },
  {
   "cell_type": "code",
   "execution_count": null,
   "metadata": {
    "colab": {
     "base_uri": "https://localhost:8080/",
     "height": 54
    },
    "id": "4SmOJTikbYnK",
    "outputId": "003b9c87-b9fc-4825-ac40-fa9aa9c848a9"
   },
   "outputs": [],
   "source": [
    "'''\n",
    "import folium \n",
    "from folium import plugins\n",
    "import json\n",
    "\n",
    "import matplotlib as mpl\n",
    "import matplotlib.pyplot as plt\n",
    "import matplotlib.font_manager as fm\n",
    "fontpath = 'NanumBarunGothic.ttf'\n",
    "font = fm.FontProperties(fname=fontpath, size=9)\n",
    "plt.rc('font', family='NanumBarunGothic')\n",
    "mpl.font_manager._rebuild()\n",
    "'''"
   ]
  },
  {
   "cell_type": "code",
   "execution_count": null,
   "metadata": {
    "colab": {
     "base_uri": "https://localhost:8080/"
    },
    "id": "1_2xcWn93DfM",
    "outputId": "049f4db4-921d-4891-84c4-4ef85c8fbe7a"
   },
   "outputs": [],
   "source": [
    "'''\n",
    "state_geo='drive/MyDrive/Colab Notebooks/TL_SCCO_CTPRVN (2).zip.geojson'\n",
    "state_geo2=json.load(open(state_geo, encoding='utf-8'))\n",
    "state_geo2\n",
    "'''"
   ]
  },
  {
   "cell_type": "code",
   "execution_count": null,
   "metadata": {
    "colab": {
     "base_uri": "https://localhost:8080/",
     "height": 54
    },
    "id": "4UMMTA8w3l_N",
    "outputId": "cf29ab74-5f91-470a-8304-6e4004770513"
   },
   "outputs": [],
   "source": [
    "'''\n",
    "for idx, sigun_dict in enumerate(state_geo2['features']):\n",
    "    sigun_id = sigun_dict['properties']['CTPRVN_CD']\n",
    "    sigun_name = nc.loc[(nc.CTPRVN_CD == sigun_id), '지역'].iloc[0]\n",
    "    patient = nc.loc[(nc.CTPRVN_CD == sigun_id), '환자수'].iloc[0]\n",
    "    txt = f'<b><h4>{sigun_name}</h4></b>환자수 :{patient}'\n",
    "    #print(state_geo2['features'][idx]['properties'])\n",
    "    state_geo2['features'][idx]['properties']['tooltip1'] = txt\n",
    "'''"
   ]
  },
  {
   "cell_type": "code",
   "execution_count": null,
   "metadata": {
    "colab": {
     "base_uri": "https://localhost:8080/",
     "height": 108
    },
    "id": "xdnyS_2P3xz2",
    "outputId": "e1c407de-188b-4a6f-cf90-d1320dc41cf7"
   },
   "outputs": [],
   "source": [
    "'''\n",
    "#지도 불러들어오기 중심점 좌표 서울\n",
    "m = folium.Map(location=[35.8, 127.6], tiles=\"OpenStreetMap\", zoom_start=8)\n",
    "\n",
    "#지도에 색 적용 및 데이터 연결\n",
    "choropleth =  folium.Choropleth(\n",
    "    geo_data=state_geo2,\n",
    "    name='sigun_people',\n",
    "    data=nc,\n",
    "    columns=('지역', '환자수'),\n",
    "    key_on='feature.properties.CTP_KOR_NM',\n",
    "    fill_color='RdYlGn',\n",
    "    fill_opacity=0.7,\n",
    "    line_opacity=0.5,\n",
    "    legend_name='people index'\n",
    ").add_to(m)\n",
    "\n",
    "\n",
    "#지도 전체화면 추가코드\n",
    "plugins.Fullscreen(position='topright',\n",
    "                   title='Click to Expand',\n",
    "                   title_cancel='Click to Exit',\n",
    "                   force_separate_button=True).add_to(m)\n",
    "\n",
    "#지도 스크롤 가능\n",
    "plugins.MousePosition().add_to(m)\n",
    "\n",
    "#지도에 원하는 변수 이름 나오게 하는 코드\n",
    "choropleth.geojson.add_child(folium.features.GeoJsonTooltip(['tooltip1'], labels=False))\n",
    "title_html = '<h3 align=\"center\" style=\"font-size:20px\"><b>people index </b></h3>'\n",
    "m.get_root().html.add_child(folium.Element(title_html))\n",
    "folium.LayerControl().add_to(m)\n",
    "m\n",
    "'''"
   ]
  },
  {
   "cell_type": "markdown",
   "metadata": {
    "id": "8pP2YwX3Acnv"
   },
   "source": [
    "# **4. 미세먼지 농도 지도 (unused)**"
   ]
  },
  {
   "cell_type": "code",
   "execution_count": null,
   "metadata": {
    "colab": {
     "base_uri": "https://localhost:8080/",
     "height": 36
    },
    "id": "Idy57-nuAjvv",
    "outputId": "21bba518-8031-4b03-c4ae-6390b1df2a76"
   },
   "outputs": [],
   "source": [
    "'''\n",
    "state_geo3=json.load(open(state_geo, encoding='utf-8'))\n",
    "'''"
   ]
  },
  {
   "cell_type": "code",
   "execution_count": null,
   "metadata": {
    "colab": {
     "base_uri": "https://localhost:8080/",
     "height": 54
    },
    "id": "CtVpntCwAgpG",
    "outputId": "ce331526-e73f-42d3-be95-27cc82e54f91"
   },
   "outputs": [],
   "source": [
    "'''\n",
    "for idx, sigun_dict in enumerate(state_geo3['features']):\n",
    "    sigun_id = sigun_dict['properties']['CTPRVN_CD']\n",
    "    sigun_name = mj.loc[(mj.CTPRVN_CD == sigun_id), '행정구역']\n",
    "    finedust = mj.loc[(mj.CTPRVN_CD == sigun_id), '미세먼지 오염도(㎍/㎥)']\n",
    "    txt = f'<b><h4>{sigun_name}</h4></b>미세먼지 오염도(㎍/㎥) :{finedust}'\n",
    "    \n",
    "    state_geo3['features'][idx]['properties']['tooltip1'] = txt\n",
    "'''"
   ]
  },
  {
   "cell_type": "code",
   "execution_count": null,
   "metadata": {
    "colab": {
     "base_uri": "https://localhost:8080/",
     "height": 108
    },
    "id": "F7NQ524HAzC4",
    "outputId": "040c55cb-6017-40ae-df7b-956617000b52"
   },
   "outputs": [],
   "source": [
    "'''\n",
    "#지도 불러들어오기 중심점 좌표 서울\n",
    "m2 = folium.Map(location=[35.8, 127.6], tiles=\"OpenStreetMap\", zoom_start=8)\n",
    "\n",
    "#지도에 색 적용 및 데이터 연결\n",
    "choropleth2 =  folium.Choropleth(\n",
    "    geo_data=state_geo3,\n",
    "    name='sigun_people',\n",
    "    data=mj,\n",
    "    columns=('행정구역', '미세먼지 오염도(㎍/㎥)'),\n",
    "    key_on='feature.properties.CTP_KOR_NM',\n",
    "    fill_color='RdYlGn',\n",
    "    fill_opacity=0.7,\n",
    "    line_opacity=0.5,\n",
    "    legend_name='people index'\n",
    ").add_to(m2)\n",
    "\n",
    "\n",
    "#지도 전체화면 추가코드\n",
    "plugins.Fullscreen(position='topright',\n",
    "                   title='Click to Expand',\n",
    "                   title_cancel='Click to Exit',\n",
    "                   force_separate_button=True).add_to(m2)\n",
    "\n",
    "#지도 스크롤 가능\n",
    "plugins.MousePosition().add_to(m2)\n",
    "\n",
    "#지도에 원하는 변수 이름 나오게 하는 코드\n",
    "choropleth2.geojson.add_child(folium.features.GeoJsonTooltip(['tooltip1'], labels=False))\n",
    "title_html2 = '<h3 align=\"center\" style=\"font-size:20px\"><b>people index </b></h3>'\n",
    "m2.get_root().html.add_child(folium.Element(title_html2))\n",
    "folium.LayerControl().add_to(m2)\n",
    "m2\n",
    "'''"
   ]
  },
  {
   "cell_type": "markdown",
   "metadata": {
    "id": "Dn3KO_aPgvjV"
   },
   "source": [
    "# **5. Mapbox 세팅**"
   ]
  },
  {
   "cell_type": "code",
   "execution_count": null,
   "metadata": {
    "colab": {
     "base_uri": "https://localhost:8080/"
    },
    "id": "3XMNJFRmYO7U",
    "outputId": "475ccbc2-6457-46ac-8b19-77f8bb28a739"
   },
   "outputs": [],
   "source": [
    "import pandas as pd\n",
    "import json\n",
    "\n",
    "!pip install mapboxgl\n",
    "import mapboxgl\n",
    "import os\n",
    "\n",
    "from mapboxgl.viz import *\n",
    "from mapboxgl.utils import create_color_stops\n",
    "from mapboxgl.utils import create_numeric_stops\n",
    "\n",
    "MAPBOX_API_KEY = 'pk.eyJ1IjoidG9tN2hvbmc3IiwiYSI6ImNrcXZpenEzMTBldHoycnJnaHlzZnM2cjYifQ.xbHZ3Z_01taQed2XVs15nQ'"
   ]
  },
  {
   "cell_type": "markdown",
   "metadata": {
    "id": "SexzeI0TYJRm"
   },
   "source": [
    "# **6. 폐암 환자수 지도**"
   ]
  },
  {
   "cell_type": "code",
   "execution_count": null,
   "metadata": {
    "colab": {
     "base_uri": "https://localhost:8080/"
    },
    "id": "FwqGfN9nYiKy",
    "outputId": "0bda4b34-c5d7-4fd7-e65e-80f56d1da334"
   },
   "outputs": [],
   "source": [
    "state_geo = 'mapfile.zip.geojson'\n",
    "state_geo1 = json.load(open(state_geo, encoding='utf-8'))\n",
    "\n",
    "for idx, sigun_dict in enumerate(state_geo1['features']):\n",
    "    sigun_id = sigun_dict['properties']['CTPRVN_CD']\n",
    "    sigun_name = nc.loc[(nc.CTPRVN_CD == sigun_id), '지역'].iloc[0]\n",
    "    patient = nc.loc[(nc.CTPRVN_CD == sigun_id), '환자수'].iloc[0]\n",
    "    txt = f'<b><h4>{sigun_name}</h4></b>환자수 :{patient}'\n",
    "    \n",
    "    state_geo1['features'][idx]['properties']['시도'] = sigun_name #txt\n",
    "    state_geo1['features'][idx]['properties']['환자수'] = patient\n",
    "\n",
    "state_geo1['features'][0]"
   ]
  },
  {
   "cell_type": "code",
   "execution_count": null,
   "metadata": {
    "id": "msrM00J7ZC87"
   },
   "outputs": [],
   "source": [
    "center = [128.25, 35.95]\n",
    "color_breaks = [0, 200, 600, 1200, 1600, 2000, 5000]\n",
    "color_stops = create_color_stops(color_breaks, colors='Purples')"
   ]
  },
  {
   "cell_type": "code",
   "execution_count": null,
   "metadata": {
    "colab": {
     "base_uri": "https://localhost:8080/",
     "height": 546
    },
    "id": "0N0gsUQSZojA",
    "outputId": "63e7cc0d-9dad-4a87-8143-e4dafe105f8d"
   },
   "outputs": [],
   "source": [
    "viz1 = ChoroplethViz(\n",
    "    access_token=MAPBOX_API_KEY,\n",
    "    data=state_geo1,\n",
    "    color_property='환자수',\n",
    "    color_stops=color_stops,\n",
    "    center=center,\n",
    "    zoom=5.4,\n",
    "    style = 'mapbox://styles/mapbox/dark-v10?optimize=true'\n",
    "    )\n",
    "\n",
    "viz1.show()"
   ]
  },
  {
   "cell_type": "code",
   "execution_count": null,
   "metadata": {
    "colab": {
     "base_uri": "https://localhost:8080/",
     "height": 546
    },
    "id": "Lvg0OQJkl19M",
    "outputId": "f432f2fa-ed35-42c5-84b6-5894f3e1fb33"
   },
   "outputs": [],
   "source": [
    "viz11 = ChoroplethViz(\n",
    "    access_token=MAPBOX_API_KEY,\n",
    "    data=state_geo1,\n",
    "    color_property='환자수',\n",
    "    color_stops=color_stops,\n",
    "    center=center,\n",
    "    zoom=5.4,\n",
    "    #bearing = -17,\n",
    "    #pitch = 43,\n",
    "    height_property = '환자수',\n",
    "    height_stops = create_numeric_stops([0, 200, 600, 1200, 1600, 2000, 5000], 0, 30000),\n",
    "    height_function_type = 'interpolate',\n",
    "    style = 'mapbox://styles/mapbox/dark-v10?optimize=true'\n",
    ")\n",
    "\n",
    "viz11.show()"
   ]
  },
  {
   "cell_type": "markdown",
   "metadata": {
    "id": "-JadjkJOg1cb"
   },
   "source": [
    "# **7. 미세먼지 오염도 지도**"
   ]
  },
  {
   "cell_type": "code",
   "execution_count": null,
   "metadata": {
    "colab": {
     "base_uri": "https://localhost:8080/"
    },
    "id": "qvvA5dpCg1xV",
    "outputId": "3ff20a3e-505f-454a-d2c6-960c1622fa61"
   },
   "outputs": [],
   "source": [
    "state_geo = 'mapfile.zip.geojson'\n",
    "state_geo2 = json.load(open(state_geo, encoding='utf-8'))\n",
    "\n",
    "for idx, sigun_dict in enumerate(state_geo2['features']):\n",
    "    sigun_id = sigun_dict['properties']['CTPRVN_CD']\n",
    "    sigun_name = mj.loc[(mj.CTPRVN_CD == sigun_id), '행정구역'].iloc[0]\n",
    "    dust = mj.loc[(mj.CTPRVN_CD == sigun_id), '미세먼지 오염도(㎍/㎥)'].iloc[0]\n",
    "    txt = f'<b><h4>{sigun_name}</h4></b>미세먼지 오염도(㎍/㎥) :{dust}'\n",
    "    \n",
    "    state_geo2['features'][idx]['properties']['시도'] = sigun_name #txt\n",
    "    state_geo2['features'][idx]['properties']['미세먼지 오염도(㎍/㎥)'] = dust\n",
    "\n",
    "state_geo2['features'][0]"
   ]
  },
  {
   "cell_type": "code",
   "execution_count": null,
   "metadata": {
    "id": "oDUknnQnhTHF"
   },
   "outputs": [],
   "source": [
    "#center = []\n",
    "color_breaks2 = [0, 35, 37.5, 40, 42.5, 45]\n",
    "color_stops2 = create_color_stops(color_breaks2, colors='Reds')"
   ]
  },
  {
   "cell_type": "code",
   "execution_count": null,
   "metadata": {
    "colab": {
     "base_uri": "https://localhost:8080/",
     "height": 546
    },
    "id": "0GmbMxtzhHtm",
    "outputId": "da496e4e-08b4-47e8-e1b1-939bad4aa35e"
   },
   "outputs": [],
   "source": [
    "viz2 = ChoroplethViz(\n",
    "    access_token=MAPBOX_API_KEY,\n",
    "    data=state_geo2,\n",
    "    color_property='미세먼지 오염도(㎍/㎥)',\n",
    "    color_stops=color_stops2,\n",
    "    center=center,\n",
    "    zoom=5.4,\n",
    "    style = 'mapbox://styles/mapbox/dark-v10?optimize=true'\n",
    "    )\n",
    "\n",
    "viz2.show()"
   ]
  },
  {
   "cell_type": "code",
   "execution_count": null,
   "metadata": {
    "colab": {
     "base_uri": "https://localhost:8080/",
     "height": 546
    },
    "id": "lZrZ5bGTtugp",
    "outputId": "71cc6714-c10c-41ce-8da1-fb13db2ccc0c"
   },
   "outputs": [],
   "source": [
    "viz21 = ChoroplethViz(\n",
    "    access_token=MAPBOX_API_KEY,\n",
    "    data=state_geo2,\n",
    "    color_property='미세먼지 오염도(㎍/㎥)',\n",
    "    color_stops=color_stops2,\n",
    "    center=center,\n",
    "    zoom=5.4,\n",
    "    #bearing = -17,\n",
    "    #pitch = 43,\n",
    "    height_property = '미세먼지 오염도(㎍/㎥)',\n",
    "    height_stops = create_numeric_stops([0, 35, 37.5, 40, 42.5, 45], 0, 30000),\n",
    "    height_function_type = 'interpolate',\n",
    "    style = 'mapbox://styles/mapbox/dark-v10?optimize=true'\n",
    ")\n",
    "\n",
    "viz21.show()"
   ]
  },
  {
   "cell_type": "markdown",
   "metadata": {},
   "source": [
    "### 참고 문서\n",
    "* https://mjs1995.tistory.com/169\n",
    "* https://dailyheumsi.tistory.com/145#6.-%EB%A7%B5-%EC%8A%A4%ED%83%80%EC%9D%BC%EB%A7%81\n",
    "* https://mjs1995.tistory.com/181"
   ]
  }
 ],
 "metadata": {
  "colab": {
   "collapsed_sections": [
    "8pVZixiuX-BU",
    "8pP2YwX3Acnv"
   ],
   "name": "Python Math ParkT Project - 2206 · 2212 · 2217",
   "provenance": []
  },
  "kernelspec": {
   "display_name": "Python 3",
   "language": "python",
   "name": "python3"
  },
  "language_info": {
   "codemirror_mode": {
    "name": "ipython",
    "version": 3
   },
   "file_extension": ".py",
   "mimetype": "text/x-python",
   "name": "python",
   "nbconvert_exporter": "python",
   "pygments_lexer": "ipython3",
   "version": "3.8.8"
  }
 },
 "nbformat": 4,
 "nbformat_minor": 1
}
